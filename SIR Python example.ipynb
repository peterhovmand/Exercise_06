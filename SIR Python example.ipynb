{
 "cells": [
  {
   "cell_type": "markdown",
   "id": "79292457",
   "metadata": {},
   "source": [
    "# Running Stella models in Juypyter Python notebooks\n",
    "\n",
    "This notebook goes through the steps to run a Stella model, change parameters, import and plot results in Python using Jupyter notebook. \n",
    "\n",
    "\n",
    "## 1. Running SIR.stmx model using stella_simulator\n",
    "\n",
    "This section replicates the steps in Exercise 1 for running the Stella SIR.stmx model using stella_simulator."
   ]
  },
  {
   "cell_type": "code",
   "execution_count": 1,
   "id": "e3bb7a51",
   "metadata": {},
   "outputs": [
    {
     "name": "stdout",
     "output_type": "stream",
     "text": [
      "Parms.csv                SIR Python example.ipynb \u001b[34m__pycache__\u001b[m\u001b[m\r\n",
      "README.md                SIR.py\r\n",
      "Results.csv              SIR.stmx\r\n"
     ]
    }
   ],
   "source": [
    "!ls"
   ]
  },
  {
   "cell_type": "code",
   "execution_count": 2,
   "id": "cb9d3482",
   "metadata": {},
   "outputs": [
    {
     "name": "stdout",
     "output_type": "stream",
     "text": [
      "/Users/psh2020/Documents/Projects/SD-R-user-group/Exercise_06\r\n"
     ]
    }
   ],
   "source": [
    "!pwd"
   ]
  },
  {
   "cell_type": "code",
   "execution_count": 3,
   "id": "968b380b",
   "metadata": {},
   "outputs": [
    {
     "name": "stdout",
     "output_type": "stream",
     "text": [
      "Stella Simulator version 2.1.3, Copyright (C) 2021 by isee systems, inc.\r\n",
      "Registered to: Peter S Hovmand, Case Western Reserve University\r\n",
      "Usage: stella_simulator <options> model_file\r\n",
      "  -0 arg               Set specified variable to 0 before first run\r\n",
      "  -1 arg               Set specified variable to 1 before first run\r\n",
      "  -d arg               Seconds to delay between successive runs (default: 0)\r\n",
      "  -h arg               Name of file to use for handshakes (default: none)\r\n",
      "  -i                   Import now before each run\r\n",
      "  -ld arg              Load data from the file as a run\r\n",
      "  -ltm arg             Run LTM and put results in file (and file_defs.txt)\r\n",
      "  -ltmn arg            Exhaustive loop search threshold\r\n",
      "  -p arg               Pause at the given interval (0: DT; default: no pause)\r\n",
      "  -pd arg              Seconds to delay before resuming after a pause \r\n",
      "                        (default: 0)\r\n",
      "  -pe arg              Off|Model|Interface Observe pause events from the \r\n",
      "                        mdodel or interface (default off)\r\n",
      "  -ph arg              Name of file to use for pause/resume handshakes \r\n",
      "                        (changes -pd to maximum wait/overrides -pf; default: \r\n",
      "                        none)\r\n",
      "  -pi                  Pause immediately after initialization\r\n",
      "  -pir                 Pause immediately after initialization, then \r\n",
      "                        reinitialize on resume\r\n",
      "  -ps arg              Name of the status file (default: none). Use with -ph\r\n",
      "  -q                   Quiet mode (only errors are output)\r\n",
      "  -r                   Run the model once (default)\r\n",
      "  -rn arg              Run specified number of times\r\n",
      "  -ro                  Perform optimization (requires optimization be set up \r\n",
      "                        in the model)\r\n",
      "  -rs                  Perform sensitivity (requires sensitivity be set up in \r\n",
      "                        the model)\r\n",
      "  -x                   Export now after each run\r\n",
      "\r\n"
     ]
    }
   ],
   "source": [
    "! /Applications/Stella_Simulator/stella_simulator"
   ]
  },
  {
   "cell_type": "markdown",
   "id": "97439bc5",
   "metadata": {},
   "source": [
    "List the files in the current directory to make sure the model and .csv files for importing and exporting values are in the current working directory. "
   ]
  },
  {
   "cell_type": "code",
   "execution_count": 4,
   "id": "07891bd6",
   "metadata": {},
   "outputs": [
    {
     "name": "stdout",
     "output_type": "stream",
     "text": [
      "total 296\r\n",
      "-rw-r--r--  1 psh2020  staff     19 Mar 22 21:26 Parms.csv\r\n",
      "-rw-r--r--  1 psh2020  staff     41 Mar 22 19:55 README.md\r\n",
      "-rw-r--r--  1 psh2020  staff  46958 Mar 22 21:26 Results.csv\r\n",
      "-rw-r--r--  1 psh2020  staff  67576 Mar 22 21:27 SIR Python example.ipynb\r\n",
      "-rw-r--r--  1 psh2020  staff   5236 Mar 22 21:26 SIR.py\r\n",
      "-rw-r--r--  1 psh2020  staff  15937 Feb 25 00:59 SIR.stmx\r\n",
      "drwxr-xr-x  3 psh2020  staff     96 Mar 22 21:26 \u001b[34m__pycache__\u001b[m\u001b[m\r\n"
     ]
    }
   ],
   "source": [
    "! ls -l"
   ]
  },
  {
   "cell_type": "markdown",
   "id": "2ae6d6b1",
   "metadata": {},
   "source": [
    "Run the SIR.stmx model."
   ]
  },
  {
   "cell_type": "code",
   "execution_count": 5,
   "id": "cbe7b367",
   "metadata": {},
   "outputs": [
    {
     "name": "stdout",
     "output_type": "stream",
     "text": [
      "Stella Simulator version 2.1.3, Copyright (C) 2021 by isee systems, inc.\n",
      "Registered to: Peter S Hovmand, Case Western Reserve University\n",
      "Begin run.End run!\n"
     ]
    }
   ],
   "source": [
    "! /Applications/Stella_Simulator/stella_simulator -r SIR.stmx"
   ]
  },
  {
   "cell_type": "markdown",
   "id": "3af2ba78",
   "metadata": {},
   "source": [
    "Check to see that the results file has been updated after running the model. The timestamp of the Results.csv file should be the current time. "
   ]
  },
  {
   "cell_type": "code",
   "execution_count": 6,
   "id": "ff12a74a",
   "metadata": {},
   "outputs": [
    {
     "name": "stdout",
     "output_type": "stream",
     "text": [
      "total 296\r\n",
      "-rw-r--r--  1 psh2020  staff     19 Mar 22 21:26 Parms.csv\r\n",
      "-rw-r--r--  1 psh2020  staff     41 Mar 22 19:55 README.md\r\n",
      "-rw-r--r--  1 psh2020  staff  46958 Mar 22 21:31 Results.csv\r\n",
      "-rw-r--r--  1 psh2020  staff  67576 Mar 22 21:27 SIR Python example.ipynb\r\n",
      "-rw-r--r--  1 psh2020  staff   5236 Mar 22 21:26 SIR.py\r\n",
      "-rw-r--r--  1 psh2020  staff  15937 Feb 25 00:59 SIR.stmx\r\n",
      "drwxr-xr-x  3 psh2020  staff     96 Mar 22 21:26 \u001b[34m__pycache__\u001b[m\u001b[m\r\n"
     ]
    }
   ],
   "source": [
    "! ls -l"
   ]
  },
  {
   "cell_type": "markdown",
   "id": "d6d193ca",
   "metadata": {},
   "source": [
    "Import the Pandas module as pd and then read the .csv file into the dataframe df. Print the dataframe.  "
   ]
  },
  {
   "cell_type": "code",
   "execution_count": 7,
   "id": "c5047ae6",
   "metadata": {},
   "outputs": [
    {
     "name": "stdout",
     "output_type": "stream",
     "text": [
      "     months  Contact Rate  Infected  Infection Rate  Infectivity  Population  \\\n",
      "0       1.0           100  1.000000    8.000000e+00          0.2        2500   \n",
      "1       1.1           100  1.766667    1.412203e+01          0.2        2500   \n",
      "2       1.2           100  3.119980    2.490463e+01          0.2        2500   \n",
      "3       1.3           100  5.506444    4.384439e+01          0.2        2500   \n",
      "4       1.4           100  9.707335    7.695299e+01          0.2        2500   \n",
      "..      ...           ...       ...             ...          ...         ...   \n",
      "466    47.6           100  0.000206    4.765912e-17          0.2        2500   \n",
      "467    47.7           100  0.000199    4.607047e-17          0.2        2500   \n",
      "468    47.8           100  0.000192    4.453478e-17          0.2        2500   \n",
      "469    47.9           100  0.000186    4.305028e-17          0.2        2500   \n",
      "470    48.0           100  0.000180    4.161527e-17          0.2        2500   \n",
      "\n",
      "       Recovered  Recovery Rate  Recovery Time   Susceptible  \n",
      "0       0.000000       0.333333              3  1.000000e+03  \n",
      "1       0.033333       0.588889              3  9.992000e+02  \n",
      "2       0.092222       1.039993              3  9.977878e+02  \n",
      "3       0.196222       1.835481              3  9.952973e+02  \n",
      "4       0.379770       3.235778              3  9.909129e+02  \n",
      "..           ...            ...            ...           ...  \n",
      "466  1000.999794       0.000069              3  2.894646e-11  \n",
      "467  1000.999801       0.000066              3  2.894645e-11  \n",
      "468  1000.999808       0.000064              3  2.894645e-11  \n",
      "469  1000.999814       0.000062              3  2.894644e-11  \n",
      "470  1000.999820       0.000060              3  2.894644e-11  \n",
      "\n",
      "[471 rows x 10 columns]\n"
     ]
    }
   ],
   "source": [
    "import pandas as pd\n",
    "df = pd.read_csv('Results.csv')\n",
    "print(df)"
   ]
  },
  {
   "cell_type": "markdown",
   "id": "119c7e6e",
   "metadata": {},
   "source": [
    "Plot the results. "
   ]
  },
  {
   "cell_type": "code",
   "execution_count": 8,
   "id": "6ce8f09e",
   "metadata": {},
   "outputs": [
    {
     "data": {
      "text/plain": [
       "<AxesSubplot:xlabel='months', ylabel='Infected'>"
      ]
     },
     "execution_count": 8,
     "metadata": {},
     "output_type": "execute_result"
    },
    {
     "data": {
      "image/png": "[encoded data removed]",
      "text/plain": [
       "<Figure size 432x288 with 1 Axes>"
      ]
     },
     "metadata": {
      "needs_background": "light"
     },
     "output_type": "display_data"
    }
   ],
   "source": [
    "df.plot.scatter(x = 'months', y = 'Infected')"
   ]
  },
  {
   "cell_type": "markdown",
   "id": "7ec2707e",
   "metadata": {},
   "source": [
    "Create a list setting the parameter to a new value. Then convert the list to a dataframe and print the dataframe to check the results. "
   ]
  },
  {
   "cell_type": "code",
   "execution_count": 9,
   "id": "70fe000e",
   "metadata": {},
   "outputs": [
    {
     "data": {
      "text/html": [
       "<div>\n",
       "<style scoped>\n",
       "    .dataframe tbody tr th:only-of-type {\n",
       "        vertical-align: middle;\n",
       "    }\n",
       "\n",
       "    .dataframe tbody tr th {\n",
       "        vertical-align: top;\n",
       "    }\n",
       "\n",
       "    .dataframe thead th {\n",
       "        text-align: right;\n",
       "    }\n",
       "</style>\n",
       "<table border=\"1\" class=\"dataframe\">\n",
       "  <thead>\n",
       "    <tr style=\"text-align: right;\">\n",
       "      <th></th>\n",
       "      <th>Infectivity</th>\n",
       "    </tr>\n",
       "  </thead>\n",
       "  <tbody>\n",
       "    <tr>\n",
       "      <th>0</th>\n",
       "      <td>0.2</td>\n",
       "    </tr>\n",
       "  </tbody>\n",
       "</table>\n",
       "</div>"
      ],
      "text/plain": [
       "   Infectivity\n",
       "0          0.2"
      ]
     },
     "execution_count": 9,
     "metadata": {},
     "output_type": "execute_result"
    }
   ],
   "source": [
    "parms = {'Infectivity':[0.2]}\n",
    "parms_df = pd.DataFrame(parms)\n",
    "parms_df"
   ]
  },
  {
   "cell_type": "markdown",
   "id": "9fbc0d80",
   "metadata": {},
   "source": [
    "Write the parms_df to the Parms.csv file and then check to see that the time stamp on the Parms.csv file has been updated to the current time. "
   ]
  },
  {
   "cell_type": "code",
   "execution_count": 10,
   "id": "47a53a02",
   "metadata": {},
   "outputs": [
    {
     "name": "stdout",
     "output_type": "stream",
     "text": [
      "total 296\r\n",
      "-rw-r--r--  1 psh2020  staff     19 Mar 22 21:31 Parms.csv\r\n",
      "-rw-r--r--  1 psh2020  staff     41 Mar 22 19:55 README.md\r\n",
      "-rw-r--r--  1 psh2020  staff  46958 Mar 22 21:31 Results.csv\r\n",
      "-rw-r--r--  1 psh2020  staff  67576 Mar 22 21:27 SIR Python example.ipynb\r\n",
      "-rw-r--r--  1 psh2020  staff   5236 Mar 22 21:26 SIR.py\r\n",
      "-rw-r--r--  1 psh2020  staff  15937 Feb 25 00:59 SIR.stmx\r\n",
      "drwxr-xr-x  3 psh2020  staff     96 Mar 22 21:26 \u001b[34m__pycache__\u001b[m\u001b[m\r\n"
     ]
    }
   ],
   "source": [
    "parms_df.to_csv('Parms.csv')\n",
    "!ls -l"
   ]
  },
  {
   "cell_type": "markdown",
   "id": "e5957049",
   "metadata": {},
   "source": [
    "Run the model again using the new parameters using the paramter values that were just saved to the Parms.csv file, check th eresults, and then plot. "
   ]
  },
  {
   "cell_type": "code",
   "execution_count": 11,
   "id": "f83c7610",
   "metadata": {},
   "outputs": [
    {
     "name": "stdout",
     "output_type": "stream",
     "text": [
      "Stella Simulator version 2.1.3, Copyright (C) 2021 by isee systems, inc.\n",
      "Registered to: Peter S Hovmand, Case Western Reserve University\n",
      "Begin run.End run!\n",
      "     months  Contact Rate  Infected  Infection Rate  Infectivity  Population  \\\n",
      "0       1.0           100  1.000000    8.000000e+00          0.2        2500   \n",
      "1       1.1           100  1.766667    1.412203e+01          0.2        2500   \n",
      "2       1.2           100  3.119980    2.490463e+01          0.2        2500   \n",
      "3       1.3           100  5.506444    4.384439e+01          0.2        2500   \n",
      "4       1.4           100  9.707335    7.695299e+01          0.2        2500   \n",
      "..      ...           ...       ...             ...          ...         ...   \n",
      "466    47.6           100  0.000206    4.765912e-17          0.2        2500   \n",
      "467    47.7           100  0.000199    4.607047e-17          0.2        2500   \n",
      "468    47.8           100  0.000192    4.453478e-17          0.2        2500   \n",
      "469    47.9           100  0.000186    4.305028e-17          0.2        2500   \n",
      "470    48.0           100  0.000180    4.161527e-17          0.2        2500   \n",
      "\n",
      "       Recovered  Recovery Rate  Recovery Time   Susceptible  \n",
      "0       0.000000       0.333333              3  1.000000e+03  \n",
      "1       0.033333       0.588889              3  9.992000e+02  \n",
      "2       0.092222       1.039993              3  9.977878e+02  \n",
      "3       0.196222       1.835481              3  9.952973e+02  \n",
      "4       0.379770       3.235778              3  9.909129e+02  \n",
      "..           ...            ...            ...           ...  \n",
      "466  1000.999794       0.000069              3  2.894646e-11  \n",
      "467  1000.999801       0.000066              3  2.894645e-11  \n",
      "468  1000.999808       0.000064              3  2.894645e-11  \n",
      "469  1000.999814       0.000062              3  2.894644e-11  \n",
      "470  1000.999820       0.000060              3  2.894644e-11  \n",
      "\n",
      "[471 rows x 10 columns]\n"
     ]
    },
    {
     "data": {
      "text/plain": [
       "<AxesSubplot:xlabel='months', ylabel='Infected'>"
      ]
     },
     "execution_count": 11,
     "metadata": {},
     "output_type": "execute_result"
    },
    {
     "data": {
      "image/png": "[encoded data removed]",
      "text/plain": [
       "<Figure size 432x288 with 1 Axes>"
      ]
     },
     "metadata": {
      "needs_background": "light"
     },
     "output_type": "display_data"
    }
   ],
   "source": [
    "! /Applications/Stella_Simulator/stella_simulator -r SIR.stmx\n",
    "df = pd.read_csv('Results.csv')\n",
    "print(df)\n",
    "df.plot.scatter(x = 'months', y = 'Infected')"
   ]
  },
  {
   "cell_type": "markdown",
   "id": "8f0fa2a9",
   "metadata": {},
   "source": [
    "## 2. Using pysd"
   ]
  },
  {
   "cell_type": "raw",
   "id": "20165150",
   "metadata": {},
   "source": [
    "Start by installing the pysd module. "
   ]
  },
  {
   "cell_type": "code",
   "execution_count": 12,
   "id": "62eaf023",
   "metadata": {},
   "outputs": [
    {
     "name": "stdout",
     "output_type": "stream",
     "text": [
      "Requirement already satisfied: pysd in /Users/psh2020/opt/anaconda3/lib/python3.9/site-packages (2.2.3)\n",
      "Requirement already satisfied: xarray in /Users/psh2020/opt/anaconda3/lib/python3.9/site-packages (from pysd) (2022.3.0)\n",
      "Requirement already satisfied: black in /Users/psh2020/opt/anaconda3/lib/python3.9/site-packages (from pysd) (19.10b0)\n",
      "Requirement already satisfied: chardet in /Users/psh2020/opt/anaconda3/lib/python3.9/site-packages (from pysd) (4.0.0)\n",
      "Requirement already satisfied: regex in /Users/psh2020/opt/anaconda3/lib/python3.9/site-packages (from pysd) (2021.8.3)\n",
      "Requirement already satisfied: scipy in /Users/psh2020/opt/anaconda3/lib/python3.9/site-packages (from pysd) (1.7.1)\n",
      "Requirement already satisfied: progressbar in /Users/psh2020/opt/anaconda3/lib/python3.9/site-packages (from pysd) (2.5)\n",
      "Requirement already satisfied: parsimonious in /Users/psh2020/opt/anaconda3/lib/python3.9/site-packages (from pysd) (0.8.1)\n",
      "Requirement already satisfied: pandas in /Users/psh2020/opt/anaconda3/lib/python3.9/site-packages (from pysd) (1.3.4)\n",
      "Requirement already satisfied: lxml in /Users/psh2020/opt/anaconda3/lib/python3.9/site-packages (from pysd) (4.6.3)\n",
      "Requirement already satisfied: xlrd in /Users/psh2020/opt/anaconda3/lib/python3.9/site-packages (from pysd) (2.0.1)\n",
      "Requirement already satisfied: openpyxl in /Users/psh2020/opt/anaconda3/lib/python3.9/site-packages (from pysd) (3.0.9)\n",
      "Requirement already satisfied: typed-ast>=1.4.0 in /Users/psh2020/opt/anaconda3/lib/python3.9/site-packages (from black->pysd) (1.4.3)\n",
      "Requirement already satisfied: pathspec<1,>=0.6 in /Users/psh2020/opt/anaconda3/lib/python3.9/site-packages (from black->pysd) (0.7.0)\n",
      "Requirement already satisfied: attrs>=18.1.0 in /Users/psh2020/opt/anaconda3/lib/python3.9/site-packages (from black->pysd) (21.2.0)\n",
      "Requirement already satisfied: appdirs in /Users/psh2020/opt/anaconda3/lib/python3.9/site-packages (from black->pysd) (1.4.4)\n",
      "Requirement already satisfied: toml>=0.9.4 in /Users/psh2020/opt/anaconda3/lib/python3.9/site-packages (from black->pysd) (0.10.2)\n",
      "Requirement already satisfied: click>=6.5 in /Users/psh2020/opt/anaconda3/lib/python3.9/site-packages (from black->pysd) (8.0.3)\n",
      "Requirement already satisfied: et-xmlfile in /Users/psh2020/opt/anaconda3/lib/python3.9/site-packages (from openpyxl->pysd) (1.1.0)\n",
      "Requirement already satisfied: python-dateutil>=2.7.3 in /Users/psh2020/opt/anaconda3/lib/python3.9/site-packages (from pandas->pysd) (2.8.2)\n",
      "Requirement already satisfied: pytz>=2017.3 in /Users/psh2020/opt/anaconda3/lib/python3.9/site-packages (from pandas->pysd) (2021.3)\n",
      "Requirement already satisfied: numpy>=1.17.3 in /Users/psh2020/opt/anaconda3/lib/python3.9/site-packages (from pandas->pysd) (1.20.3)\n",
      "Requirement already satisfied: six>=1.5 in /Users/psh2020/opt/anaconda3/lib/python3.9/site-packages (from python-dateutil>=2.7.3->pandas->pysd) (1.16.0)\n",
      "Requirement already satisfied: packaging>=20.0 in /Users/psh2020/opt/anaconda3/lib/python3.9/site-packages (from xarray->pysd) (21.0)\n",
      "Requirement already satisfied: pyparsing>=2.0.2 in /Users/psh2020/opt/anaconda3/lib/python3.9/site-packages (from packaging>=20.0->xarray->pysd) (3.0.4)\n"
     ]
    }
   ],
   "source": [
    "!pip install pysd"
   ]
  },
  {
   "cell_type": "code",
   "execution_count": 13,
   "id": "3340fa0f",
   "metadata": {},
   "outputs": [],
   "source": [
    "import pysd\n",
    "model = pysd.read_xmile('SIR.stmx')"
   ]
  },
  {
   "cell_type": "code",
   "execution_count": 14,
   "id": "037b287c",
   "metadata": {},
   "outputs": [
    {
     "data": {
      "text/plain": [
       "<AxesSubplot:>"
      ]
     },
     "execution_count": 14,
     "metadata": {},
     "output_type": "execute_result"
    },
    {
     "data": {
      "image/png": "[encoded data removed]",
      "text/plain": [
       "<Figure size 432x288 with 1 Axes>"
      ]
     },
     "metadata": {
      "needs_background": "light"
     },
     "output_type": "display_data"
    }
   ],
   "source": [
    "results = model.run()\n",
    "results.plot()"
   ]
  },
  {
   "cell_type": "code",
   "execution_count": null,
   "id": "244a5785",
   "metadata": {},
   "outputs": [],
   "source": []
  }
 ],
 "metadata": {
  "kernelspec": {
   "display_name": "Python 3 (ipykernel)",
   "language": "python",
   "name": "python3"
  },
  "language_info": {
   "codemirror_mode": {
    "name": "ipython",
    "version": 3
   },
   "file_extension": ".py",
   "mimetype": "text/x-python",
   "name": "python",
   "nbconvert_exporter": "python",
   "pygments_lexer": "ipython3",
   "version": "3.9.7"
  }
 },
 "nbformat": 4,
 "nbformat_minor": 5
}
