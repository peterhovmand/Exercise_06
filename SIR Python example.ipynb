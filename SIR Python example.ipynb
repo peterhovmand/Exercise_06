{
 "cells": [
  {
   "cell_type": "markdown",
   "metadata": {},
   "source": [
    "# Running Stella models in Juypyter Python notebooks\n",
    "\n",
    "This notebook goes through the steps to run a Stella model, change parameters, import and plot results in Python using Jupyter notebook. \n",
    "\n",
    "\n",
    "## Running SIR.stmx model using stella_simulator\n",
    "\n",
    "This section replicates the steps in Exercise 1 for running the Stella SIR.stmx model using stella_simulator."
   ]
  },
  {
   "cell_type": "code",
   "execution_count": 1,
   "metadata": {},
   "outputs": [
    {
     "name": "stdout",
     "output_type": "stream",
     "text": [
      "Parms.csv  pysd  README.md  Results.csv  SIR Python example.ipynb  SIR.stmx\r\n"
     ]
    }
   ],
   "source": [
    "!ls"
   ]
  },
  {
   "cell_type": "code",
   "execution_count": 2,
   "metadata": {},
   "outputs": [
    {
     "name": "stdout",
     "output_type": "stream",
     "text": [
      "/home/psh39/Exercise_06\r\n"
     ]
    }
   ],
   "source": [
    "!pwd"
   ]
  },
  {
   "cell_type": "code",
   "execution_count": 3,
   "metadata": {},
   "outputs": [
    {
     "name": "stdout",
     "output_type": "stream",
     "text": [
      "total 560\r\n",
      "-rw-rw-r-- 1 psh39 psh39    19 Mar 23 09:19 Parms.csv\r\n",
      "drwxr-xr-x 8 psh39 psh39  4096 Mar 22 22:03 pysd\r\n",
      "-rw-rw-r-- 1 psh39 psh39    41 Mar 22 21:43 README.md\r\n",
      "-rw-rw-r-- 1 psh39 psh39 32373 Mar 23 09:19 Results.csv\r\n",
      "-rw-rw-r-- 1 psh39 psh39 29859 Mar 23 09:19 SIR Python example.ipynb\r\n",
      "-rw-rw-r-- 1 psh39 psh39 15937 Mar 22 21:43 SIR.stmx\r\n"
     ]
    }
   ],
   "source": [
    "!ls -l"
   ]
  },
  {
   "cell_type": "code",
   "execution_count": 4,
   "metadata": {},
   "outputs": [
    {
     "name": "stdout",
     "output_type": "stream",
     "text": [
      "Stella Simulator version 2.1.3, Copyright (C) 2021 by isee systems, inc.\r\n",
      "Registered to: Peter S Hovmand, Case Western Reserve University\r\n",
      "Usage: stella_simulator <options> model_file\r\n",
      "  -0 arg               Set specified variable to 0 before first run\r\n",
      "  -1 arg               Set specified variable to 1 before first run\r\n",
      "  -d arg               Seconds to delay between successive runs (default: 0)\r\n",
      "  -h arg               Name of file to use for handshakes (default: none)\r\n",
      "  -i                   Import now before each run\r\n",
      "  -ld arg              Load data from the file as a run\r\n",
      "  -ltm arg             Run LTM and put results in file (and file_defs.txt)\r\n",
      "  -ltmn arg            Exhaustive loop search threshold\r\n",
      "  -p arg               Pause at the given interval (0: DT; default: no pause)\r\n",
      "  -pd arg              Seconds to delay before resuming after a pause \r\n",
      "                        (default: 0)\r\n",
      "  -pe arg              Off|Model|Interface Observe pause events from the \r\n",
      "                        mdodel or interface (default off)\r\n",
      "  -ph arg              Name of file to use for pause/resume handshakes \r\n",
      "                        (changes -pd to maximum wait/overrides -pf; default: \r\n",
      "                        none)\r\n",
      "  -pi                  Pause immediately after initialization\r\n",
      "  -pir                 Pause immediately after initialization, then \r\n",
      "                        reinitialize on resume\r\n",
      "  -ps arg              Name of the status file (default: none). Use with -ph\r\n",
      "  -q                   Quiet mode (only errors are output)\r\n",
      "  -r                   Run the model once (default)\r\n",
      "  -rn arg              Run specified number of times\r\n",
      "  -ro                  Perform optimization (requires optimization be set up \r\n",
      "                        in the model)\r\n",
      "  -rs                  Perform sensitivity (requires sensitivity be set up in \r\n",
      "                        the model)\r\n",
      "  -x                   Export now after each run\r\n",
      "\r\n"
     ]
    }
   ],
   "source": [
    "! /home/psh39/Stella_Simulator/stella_simulator"
   ]
  },
  {
   "cell_type": "code",
   "execution_count": 5,
   "metadata": {
    "scrolled": false
   },
   "outputs": [
    {
     "name": "stdout",
     "output_type": "stream",
     "text": [
      "total 560\n",
      "-rw-rw-r-- 1 psh39 psh39    19 Mar 23 09:19 Parms.csv\n",
      "drwxr-xr-x 8 psh39 psh39  4096 Mar 22 22:03 pysd\n",
      "-rw-rw-r-- 1 psh39 psh39    41 Mar 22 21:43 README.md\n",
      "-rw-rw-r-- 1 psh39 psh39 32373 Mar 23 09:19 Results.csv\n",
      "-rw-rw-r-- 1 psh39 psh39 29859 Mar 23 09:19 SIR Python example.ipynb\n",
      "-rw-rw-r-- 1 psh39 psh39 15937 Mar 22 21:43 SIR.stmx\n",
      "   Infectivity\n",
      "0         0.32\n"
     ]
    }
   ],
   "source": [
    "! ls -l\n",
    "import pandas as pd\n",
    "parms = {'Infectivity':[0.32]}\n",
    "parms_df = pd.DataFrame(parms)\n",
    "print(parms_df)\n",
    "parms_df.to_csv('Parms.csv')"
   ]
  },
  {
   "cell_type": "code",
   "execution_count": 6,
   "metadata": {
    "scrolled": false
   },
   "outputs": [
    {
     "name": "stdout",
     "output_type": "stream",
     "text": [
      "total 560\r\n",
      "-rw-rw-r-- 1 psh39 psh39    20 Mar 23 09:19 Parms.csv\r\n",
      "drwxr-xr-x 8 psh39 psh39  4096 Mar 22 22:03 pysd\r\n",
      "-rw-rw-r-- 1 psh39 psh39    41 Mar 22 21:43 README.md\r\n",
      "-rw-rw-r-- 1 psh39 psh39 32373 Mar 23 09:19 Results.csv\r\n",
      "-rw-rw-r-- 1 psh39 psh39 29859 Mar 23 09:19 SIR Python example.ipynb\r\n",
      "-rw-rw-r-- 1 psh39 psh39 15937 Mar 22 21:43 SIR.stmx\r\n"
     ]
    }
   ],
   "source": [
    "! ls -l"
   ]
  },
  {
   "cell_type": "markdown",
   "metadata": {},
   "source": [
    "Run the SIR.stmx model."
   ]
  },
  {
   "cell_type": "code",
   "execution_count": 7,
   "metadata": {},
   "outputs": [
    {
     "name": "stdout",
     "output_type": "stream",
     "text": [
      "Stella Simulator version 2.1.3, Copyright (C) 2021 by isee systems, inc.\r\n",
      "Registered to: Peter S Hovmand, Case Western Reserve University\r\n",
      "Begin run.End run!\r\n"
     ]
    }
   ],
   "source": [
    "! /home/psh39/Stella_Simulator/stella_simulator -r SIR.stmx"
   ]
  },
  {
   "cell_type": "markdown",
   "metadata": {},
   "source": [
    "Check to see that the results file has been updated after running the model. The timestamp of the Results.csv file should be the current time. "
   ]
  },
  {
   "cell_type": "code",
   "execution_count": 8,
   "metadata": {},
   "outputs": [
    {
     "name": "stdout",
     "output_type": "stream",
     "text": [
      "total 560\r\n",
      "-rw-rw-r-- 1 psh39 psh39    20 Mar 23 09:19 Parms.csv\r\n",
      "drwxr-xr-x 8 psh39 psh39  4096 Mar 22 22:03 pysd\r\n",
      "-rw-rw-r-- 1 psh39 psh39    41 Mar 22 21:43 README.md\r\n",
      "-rw-rw-r-- 1 psh39 psh39 32959 Mar 23 09:19 Results.csv\r\n",
      "-rw-rw-r-- 1 psh39 psh39 29859 Mar 23 09:19 SIR Python example.ipynb\r\n",
      "-rw-rw-r-- 1 psh39 psh39 15937 Mar 22 21:43 SIR.stmx\r\n"
     ]
    }
   ],
   "source": [
    "! ls -l"
   ]
  },
  {
   "cell_type": "markdown",
   "metadata": {},
   "source": [
    "Import the Pandas module as pd and then read the .csv file into the dataframe df. Print the dataframe.  "
   ]
  },
  {
   "cell_type": "code",
   "execution_count": 9,
   "metadata": {},
   "outputs": [
    {
     "name": "stdout",
     "output_type": "stream",
     "text": [
      "     months  Contact Rate    Infected  Infection Rate  Infectivity  \\\n",
      "0       1.0           100    1.000000       12.800000         0.32   \n",
      "1       1.1           100    2.246667       28.720524         0.32   \n",
      "2       1.2           100    5.043830       64.292965         0.32   \n",
      "3       1.3           100   11.304999      143.172824         0.32   \n",
      "4       1.4           100   25.245448      315.095950         0.32   \n",
      "5       1.5           100   55.913528      675.322179         0.32   \n",
      "6       1.6           100  121.581962     1363.366906         0.32   \n",
      "7       1.7           100  253.865920     2403.717453         0.32   \n",
      "8       1.8           100  485.775468     3104.928309         0.32   \n",
      "9       1.9           100  780.075784     1885.744356         0.32   \n",
      "10      2.0           100  942.647693        2.838535         0.32   \n",
      "11      2.1           100  911.509957        0.000000         0.32   \n",
      "12      2.2           100  881.126291        0.000000         0.32   \n",
      "13      2.3           100  851.755415        0.000000         0.32   \n",
      "14      2.4           100  823.363568        0.000000         0.32   \n",
      "15      2.5           100  795.918116        0.000000         0.32   \n",
      "16      2.6           100  769.387512        0.000000         0.32   \n",
      "17      2.7           100  743.741261        0.000000         0.32   \n",
      "18      2.8           100  718.949886        0.000000         0.32   \n",
      "19      2.9           100  694.984890        0.000000         0.32   \n",
      "20      3.0           100  671.818727        0.000000         0.32   \n",
      "21      3.1           100  649.424769        0.000000         0.32   \n",
      "22      3.2           100  627.777277        0.000000         0.32   \n",
      "23      3.3           100  606.851368        0.000000         0.32   \n",
      "24      3.4           100  586.622989        0.000000         0.32   \n",
      "25      3.5           100  567.068889        0.000000         0.32   \n",
      "26      3.6           100  548.166593        0.000000         0.32   \n",
      "27      3.7           100  529.894373        0.000000         0.32   \n",
      "28      3.8           100  512.231227        0.000000         0.32   \n",
      "29      3.9           100  495.156853        0.000000         0.32   \n",
      "..      ...           ...         ...             ...          ...   \n",
      "441    45.1           100    0.000425        0.000000         0.32   \n",
      "442    45.2           100    0.000411        0.000000         0.32   \n",
      "443    45.3           100    0.000397        0.000000         0.32   \n",
      "444    45.4           100    0.000384        0.000000         0.32   \n",
      "445    45.5           100    0.000371        0.000000         0.32   \n",
      "446    45.6           100    0.000359        0.000000         0.32   \n",
      "447    45.7           100    0.000347        0.000000         0.32   \n",
      "448    45.8           100    0.000336        0.000000         0.32   \n",
      "449    45.9           100    0.000324        0.000000         0.32   \n",
      "450    46.0           100    0.000314        0.000000         0.32   \n",
      "451    46.1           100    0.000303        0.000000         0.32   \n",
      "452    46.2           100    0.000293        0.000000         0.32   \n",
      "453    46.3           100    0.000283        0.000000         0.32   \n",
      "454    46.4           100    0.000274        0.000000         0.32   \n",
      "455    46.5           100    0.000265        0.000000         0.32   \n",
      "456    46.6           100    0.000256        0.000000         0.32   \n",
      "457    46.7           100    0.000247        0.000000         0.32   \n",
      "458    46.8           100    0.000239        0.000000         0.32   \n",
      "459    46.9           100    0.000231        0.000000         0.32   \n",
      "460    47.0           100    0.000223        0.000000         0.32   \n",
      "461    47.1           100    0.000216        0.000000         0.32   \n",
      "462    47.2           100    0.000209        0.000000         0.32   \n",
      "463    47.3           100    0.000202        0.000000         0.32   \n",
      "464    47.4           100    0.000195        0.000000         0.32   \n",
      "465    47.5           100    0.000189        0.000000         0.32   \n",
      "466    47.6           100    0.000182        0.000000         0.32   \n",
      "467    47.7           100    0.000176        0.000000         0.32   \n",
      "468    47.8           100    0.000170        0.000000         0.32   \n",
      "469    47.9           100    0.000165        0.000000         0.32   \n",
      "470    48.0           100    0.000159        0.000000         0.32   \n",
      "\n",
      "     Population    Recovered  Recovery Rate  Recovery Time  Susceptible  \n",
      "0          2500     0.000000       0.333333              3  1000.000000  \n",
      "1          2500     0.033333       0.748889              3   998.720000  \n",
      "2          2500     0.108222       1.681277              3   995.847948  \n",
      "3          2500     0.276350       3.768333              3   989.418651  \n",
      "4          2500     0.653183       8.415149              3   975.101369  \n",
      "5          2500     1.494698      18.637843              3   943.591774  \n",
      "6          2500     3.358482      40.527321              3   876.059556  \n",
      "7          2500     7.411214      84.621973              3   739.722865  \n",
      "8          2500    15.873412     161.925156              3   499.351120  \n",
      "9          2500    32.065927     260.025261              3   188.858289  \n",
      "10         2500    58.068454     314.215898              3     0.283853  \n",
      "11         2500    89.490043     303.836652              3     0.000000  \n",
      "12         2500   119.873709     293.708764              3     0.000000  \n",
      "13         2500   149.244585     283.918472              3     0.000000  \n",
      "14         2500   177.636432     274.454523              3     0.000000  \n",
      "15         2500   205.081884     265.306039              3     0.000000  \n",
      "16         2500   231.612488     256.462504              3     0.000000  \n",
      "17         2500   257.258739     247.913754              3     0.000000  \n",
      "18         2500   282.050114     239.649962              3     0.000000  \n",
      "19         2500   306.015110     231.661630              3     0.000000  \n",
      "20         2500   329.181273     223.939576              3     0.000000  \n",
      "21         2500   351.575231     216.474923              3     0.000000  \n",
      "22         2500   373.222723     209.259092              3     0.000000  \n",
      "23         2500   394.148632     202.283789              3     0.000000  \n",
      "24         2500   414.377011     195.540996              3     0.000000  \n",
      "25         2500   433.931111     189.022963              3     0.000000  \n",
      "26         2500   452.833407     182.722198              3     0.000000  \n",
      "27         2500   471.105627     176.631458              3     0.000000  \n",
      "28         2500   488.768773     170.743742              3     0.000000  \n",
      "29         2500   505.843147     165.052284              3     0.000000  \n",
      "..          ...          ...            ...            ...          ...  \n",
      "441        2500  1000.999575       0.000142              3     0.000000  \n",
      "442        2500  1000.999589       0.000137              3     0.000000  \n",
      "443        2500  1000.999603       0.000132              3     0.000000  \n",
      "444        2500  1000.999616       0.000128              3     0.000000  \n",
      "445        2500  1000.999629       0.000124              3     0.000000  \n",
      "446        2500  1000.999641       0.000120              3     0.000000  \n",
      "447        2500  1000.999653       0.000116              3     0.000000  \n",
      "448        2500  1000.999664       0.000112              3     0.000000  \n",
      "449        2500  1000.999676       0.000108              3     0.000000  \n",
      "450        2500  1000.999686       0.000105              3     0.000000  \n",
      "451        2500  1000.999697       0.000101              3     0.000000  \n",
      "452        2500  1000.999707       0.000098              3     0.000000  \n",
      "453        2500  1000.999717       0.000094              3     0.000000  \n",
      "454        2500  1000.999726       0.000091              3     0.000000  \n",
      "455        2500  1000.999735       0.000088              3     0.000000  \n",
      "456        2500  1000.999744       0.000085              3     0.000000  \n",
      "457        2500  1000.999753       0.000082              3     0.000000  \n",
      "458        2500  1000.999761       0.000080              3     0.000000  \n",
      "459        2500  1000.999769       0.000077              3     0.000000  \n",
      "460        2500  1000.999777       0.000074              3     0.000000  \n",
      "461        2500  1000.999784       0.000072              3     0.000000  \n",
      "462        2500  1000.999791       0.000070              3     0.000000  \n",
      "463        2500  1000.999798       0.000067              3     0.000000  \n",
      "464        2500  1000.999805       0.000065              3     0.000000  \n",
      "465        2500  1000.999811       0.000063              3     0.000000  \n",
      "466        2500  1000.999818       0.000061              3     0.000000  \n",
      "467        2500  1000.999824       0.000059              3     0.000000  \n",
      "468        2500  1000.999830       0.000057              3     0.000000  \n",
      "469        2500  1000.999835       0.000055              3     0.000000  \n",
      "470        2500  1000.999841       0.000053              3     0.000000  \n",
      "\n",
      "[471 rows x 10 columns]\n"
     ]
    }
   ],
   "source": [
    "df = pd.read_csv('Results.csv')\n",
    "print(df)"
   ]
  },
  {
   "cell_type": "code",
   "execution_count": 11,
   "metadata": {
    "scrolled": true
   },
   "outputs": [
    {
     "data": {
      "text/plain": [
       "<matplotlib.axes._subplots.AxesSubplot at 0x7fac84adadd8>"
      ]
     },
     "execution_count": 11,
     "metadata": {},
     "output_type": "execute_result"
    },
    {
     "data": {
      "image/png": "[encoded data removed]",
      "text/plain": [
       "<Figure size 432x288 with 1 Axes>"
      ]
     },
     "metadata": {},
     "output_type": "display_data"
    }
   ],
   "source": [
    "df.plot.scatter(x = 'months', y = 'Infected')"
   ]
  }
 ],
 "metadata": {
  "kernelspec": {
   "display_name": "Python 3",
   "language": "python",
   "name": "python3"
  },
  "language_info": {
   "codemirror_mode": {
    "name": "ipython",
    "version": 3
   },
   "file_extension": ".py",
   "mimetype": "text/x-python",
   "name": "python",
   "nbconvert_exporter": "python",
   "pygments_lexer": "ipython3",
   "version": "3.6.6"
  }
 },
 "nbformat": 4,
 "nbformat_minor": 5
}
