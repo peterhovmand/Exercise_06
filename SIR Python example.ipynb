{
 "cells": [
  {
   "cell_type": "markdown",
   "metadata": {},
   "source": [
    "# Running Stella models in Juypyter Python notebooks\n",
    "\n",
    "This notebook goes through the steps to run a Stella model, change parameters, import and plot results in Python using Jupyter notebook. \n",
    "\n",
    "\n",
    "## Running SIR.stmx model using stella_simulator\n",
    "\n",
    "This section replicates the steps in Exercise 1 for running the Stella SIR.stmx model using stella_simulator."
   ]
  },
  {
   "cell_type": "code",
   "execution_count": 1,
   "metadata": {},
   "outputs": [
    {
     "name": "stdout",
     "output_type": "stream",
     "text": [
      "Parms.csv  README.md  Results.csv  SIR Python example.ipynb  SIR.stmx\r\n"
     ]
    }
   ],
   "source": [
    "!ls"
   ]
  },
  {
   "cell_type": "code",
   "execution_count": 2,
   "metadata": {},
   "outputs": [
    {
     "name": "stdout",
     "output_type": "stream",
     "text": [
      "/home/psh39/Testing/Exercise_06\r\n"
     ]
    }
   ],
   "source": [
    "!pwd"
   ]
  },
  {
   "cell_type": "code",
   "execution_count": 3,
   "metadata": {},
   "outputs": [
    {
     "name": "stdout",
     "output_type": "stream",
     "text": [
      "total 544\r\n",
      "-rw-rw-r-- 1 psh39 psh39    20 Mar 23 09:54 Parms.csv\r\n",
      "-rw-rw-r-- 1 psh39 psh39    41 Mar 23 09:29 README.md\r\n",
      "-rw-rw-r-- 1 psh39 psh39 42866 Mar 23 09:54 Results.csv\r\n",
      "-rw-rw-r-- 1 psh39 psh39 59547 Mar 23 09:53 SIR Python example.ipynb\r\n",
      "-rw-rw-r-- 1 psh39 psh39 15937 Mar 23 09:29 SIR.stmx\r\n"
     ]
    }
   ],
   "source": [
    "!ls -l"
   ]
  },
  {
   "cell_type": "code",
   "execution_count": 4,
   "metadata": {},
   "outputs": [
    {
     "name": "stdout",
     "output_type": "stream",
     "text": [
      "Stella Simulator version 2.1.3, Copyright (C) 2021 by isee systems, inc.\r\n",
      "Registered to: Peter S Hovmand, Case Western Reserve University\r\n",
      "Usage: stella_simulator <options> model_file\r\n",
      "  -0 arg               Set specified variable to 0 before first run\r\n",
      "  -1 arg               Set specified variable to 1 before first run\r\n",
      "  -d arg               Seconds to delay between successive runs (default: 0)\r\n",
      "  -h arg               Name of file to use for handshakes (default: none)\r\n",
      "  -i                   Import now before each run\r\n",
      "  -ld arg              Load data from the file as a run\r\n",
      "  -ltm arg             Run LTM and put results in file (and file_defs.txt)\r\n",
      "  -ltmn arg            Exhaustive loop search threshold\r\n",
      "  -p arg               Pause at the given interval (0: DT; default: no pause)\r\n",
      "  -pd arg              Seconds to delay before resuming after a pause \r\n",
      "                        (default: 0)\r\n",
      "  -pe arg              Off|Model|Interface Observe pause events from the \r\n",
      "                        mdodel or interface (default off)\r\n",
      "  -ph arg              Name of file to use for pause/resume handshakes \r\n",
      "                        (changes -pd to maximum wait/overrides -pf; default: \r\n",
      "                        none)\r\n",
      "  -pi                  Pause immediately after initialization\r\n",
      "  -pir                 Pause immediately after initialization, then \r\n",
      "                        reinitialize on resume\r\n",
      "  -ps arg              Name of the status file (default: none). Use with -ph\r\n",
      "  -q                   Quiet mode (only errors are output)\r\n",
      "  -r                   Run the model once (default)\r\n",
      "  -rn arg              Run specified number of times\r\n",
      "  -ro                  Perform optimization (requires optimization be set up \r\n",
      "                        in the model)\r\n",
      "  -rs                  Perform sensitivity (requires sensitivity be set up in \r\n",
      "                        the model)\r\n",
      "  -x                   Export now after each run\r\n",
      "\r\n"
     ]
    }
   ],
   "source": [
    "! /home/psh39/Stella_Simulator/stella_simulator"
   ]
  },
  {
   "cell_type": "code",
   "execution_count": 5,
   "metadata": {
    "scrolled": false
   },
   "outputs": [
    {
     "name": "stdout",
     "output_type": "stream",
     "text": [
      "total 544\n",
      "-rw-rw-r-- 1 psh39 psh39    20 Mar 23 09:54 Parms.csv\n",
      "-rw-rw-r-- 1 psh39 psh39    41 Mar 23 09:29 README.md\n",
      "-rw-rw-r-- 1 psh39 psh39 42866 Mar 23 09:54 Results.csv\n",
      "-rw-rw-r-- 1 psh39 psh39 59547 Mar 23 09:53 SIR Python example.ipynb\n",
      "-rw-rw-r-- 1 psh39 psh39 15937 Mar 23 09:29 SIR.stmx\n",
      "   Infectivity\n",
      "0         0.02\n"
     ]
    }
   ],
   "source": [
    "! ls -l\n",
    "import pandas as pd\n",
    "parms = {'Infectivity':[0.02]}\n",
    "parms_df = pd.DataFrame(parms)\n",
    "print(parms_df)\n",
    "parms_df.to_csv('Parms.csv')"
   ]
  },
  {
   "cell_type": "code",
   "execution_count": 6,
   "metadata": {
    "scrolled": false
   },
   "outputs": [
    {
     "name": "stdout",
     "output_type": "stream",
     "text": [
      "total 544\r\n",
      "-rw-rw-r-- 1 psh39 psh39    20 Mar 23 09:54 Parms.csv\r\n",
      "-rw-rw-r-- 1 psh39 psh39    41 Mar 23 09:29 README.md\r\n",
      "-rw-rw-r-- 1 psh39 psh39 42866 Mar 23 09:54 Results.csv\r\n",
      "-rw-rw-r-- 1 psh39 psh39 59547 Mar 23 09:53 SIR Python example.ipynb\r\n",
      "-rw-rw-r-- 1 psh39 psh39 15937 Mar 23 09:29 SIR.stmx\r\n"
     ]
    }
   ],
   "source": [
    "! ls -l"
   ]
  },
  {
   "cell_type": "markdown",
   "metadata": {},
   "source": [
    "Run the SIR.stmx model."
   ]
  },
  {
   "cell_type": "code",
   "execution_count": 7,
   "metadata": {},
   "outputs": [
    {
     "name": "stdout",
     "output_type": "stream",
     "text": [
      "Stella Simulator version 2.1.3, Copyright (C) 2021 by isee systems, inc.\r\n",
      "Registered to: Peter S Hovmand, Case Western Reserve University\r\n",
      "Begin run.End run!\r\n"
     ]
    }
   ],
   "source": [
    "! /home/psh39/Stella_Simulator/stella_simulator -r SIR.stmx"
   ]
  },
  {
   "cell_type": "markdown",
   "metadata": {},
   "source": [
    "Check to see that the results file has been updated after running the model. The timestamp of the Results.csv file should be the current time. "
   ]
  },
  {
   "cell_type": "code",
   "execution_count": 8,
   "metadata": {},
   "outputs": [
    {
     "name": "stdout",
     "output_type": "stream",
     "text": [
      "total 544\r\n",
      "-rw-rw-r-- 1 psh39 psh39    20 Mar 23 09:54 Parms.csv\r\n",
      "-rw-rw-r-- 1 psh39 psh39    41 Mar 23 09:29 README.md\r\n",
      "-rw-rw-r-- 1 psh39 psh39 42866 Mar 23 09:54 Results.csv\r\n",
      "-rw-rw-r-- 1 psh39 psh39 59547 Mar 23 09:53 SIR Python example.ipynb\r\n",
      "-rw-rw-r-- 1 psh39 psh39 15937 Mar 23 09:29 SIR.stmx\r\n"
     ]
    }
   ],
   "source": [
    "! ls -l"
   ]
  },
  {
   "cell_type": "markdown",
   "metadata": {},
   "source": [
    "Import the Pandas module as pd and then read the .csv file into the dataframe df. Print the dataframe.  "
   ]
  },
  {
   "cell_type": "code",
   "execution_count": 9,
   "metadata": {},
   "outputs": [
    {
     "name": "stdout",
     "output_type": "stream",
     "text": [
      "     months  Contact Rate  Infected  Infection Rate  Infectivity  Population  \\\n",
      "0       1.0           100  1.000000        0.800000         0.02        2500   \n",
      "1       1.1           100  1.046667        0.837266         0.02        2500   \n",
      "2       1.2           100  1.095504        0.876260         0.02        2500   \n",
      "3       1.3           100  1.146614        0.917060         0.02        2500   \n",
      "4       1.4           100  1.200099        0.959750         0.02        2500   \n",
      "5       1.5           100  1.256071        1.004416         0.02        2500   \n",
      "6       1.6           100  1.314643        1.051147         0.02        2500   \n",
      "7       1.7           100  1.375937        1.100040         0.02        2500   \n",
      "8       1.8           100  1.440076        1.151192         0.02        2500   \n",
      "9       1.9           100  1.507193        1.204706         0.02        2500   \n",
      "10      2.0           100  1.577424        1.260689         0.02        2500   \n",
      "11      2.1           100  1.650912        1.319255         0.02        2500   \n",
      "12      2.2           100  1.727807        1.380520         0.02        2500   \n",
      "13      2.3           100  1.808265        1.444607         0.02        2500   \n",
      "14      2.4           100  1.892450        1.511643         0.02        2500   \n",
      "15      2.5           100  1.980533        1.581762         0.02        2500   \n",
      "16      2.6           100  2.072691        1.655102         0.02        2500   \n",
      "17      2.7           100  2.169112        1.731809         0.02        2500   \n",
      "18      2.8           100  2.269989        1.812035         0.02        2500   \n",
      "19      2.9           100  2.375526        1.895936         0.02        2500   \n",
      "20      3.0           100  2.485936        1.983678         0.02        2500   \n",
      "21      3.1           100  2.601439        2.075432         0.02        2500   \n",
      "22      3.2           100  2.722268        2.171378         0.02        2500   \n",
      "23      3.3           100  2.848663        2.271700         0.02        2500   \n",
      "24      3.4           100  2.980878        2.376595         0.02        2500   \n",
      "25      3.5           100  3.119175        2.486263         0.02        2500   \n",
      "26      3.6           100  3.263828        2.600916         0.02        2500   \n",
      "27      3.7           100  3.415126        2.720773         0.02        2500   \n",
      "28      3.8           100  3.573366        2.846062         0.02        2500   \n",
      "29      3.9           100  3.738860        2.977021         0.02        2500   \n",
      "..      ...           ...       ...             ...          ...         ...   \n",
      "441    45.1           100  0.587456        0.055984         0.02        2500   \n",
      "442    45.2           100  0.573472        0.054649         0.02        2500   \n",
      "443    45.3           100  0.559821        0.053346         0.02        2500   \n",
      "444    45.4           100  0.546495        0.052073         0.02        2500   \n",
      "445    45.5           100  0.533486        0.050832         0.02        2500   \n",
      "446    45.6           100  0.520786        0.049619         0.02        2500   \n",
      "447    45.7           100  0.508389        0.048436         0.02        2500   \n",
      "448    45.8           100  0.496286        0.047281         0.02        2500   \n",
      "449    45.9           100  0.484471        0.046154         0.02        2500   \n",
      "450    46.0           100  0.472938        0.045053         0.02        2500   \n",
      "451    46.1           100  0.461678        0.043979         0.02        2500   \n",
      "452    46.2           100  0.450687        0.042930         0.02        2500   \n",
      "453    46.3           100  0.439957        0.041907         0.02        2500   \n",
      "454    46.4           100  0.429483        0.040908         0.02        2500   \n",
      "455    46.5           100  0.419257        0.039932         0.02        2500   \n",
      "456    46.6           100  0.409275        0.038980         0.02        2500   \n",
      "457    46.7           100  0.399531        0.038051         0.02        2500   \n",
      "458    46.8           100  0.390018        0.037144         0.02        2500   \n",
      "459    46.9           100  0.380732        0.036258         0.02        2500   \n",
      "460    47.0           100  0.371667        0.035394         0.02        2500   \n",
      "461    47.1           100  0.362817        0.034550         0.02        2500   \n",
      "462    47.2           100  0.354178        0.033726         0.02        2500   \n",
      "463    47.3           100  0.345745        0.032922         0.02        2500   \n",
      "464    47.4           100  0.337512        0.032138         0.02        2500   \n",
      "465    47.5           100  0.329476        0.031372         0.02        2500   \n",
      "466    47.6           100  0.321630        0.030624         0.02        2500   \n",
      "467    47.7           100  0.313972        0.029894         0.02        2500   \n",
      "468    47.8           100  0.306495        0.029181         0.02        2500   \n",
      "469    47.9           100  0.299197        0.028486         0.02        2500   \n",
      "470    48.0           100  0.292072        0.027807         0.02        2500   \n",
      "\n",
      "      Recovered  Recovery Rate  Recovery Time  Susceptible  \n",
      "0      0.000000       0.333333              3  1000.000000  \n",
      "1      0.033333       0.348889              3   999.920000  \n",
      "2      0.068222       0.365168              3   999.836273  \n",
      "3      0.104739       0.382205              3   999.748647  \n",
      "4      0.142959       0.400033              3   999.656941  \n",
      "5      0.182963       0.418690              3   999.560966  \n",
      "6      0.224832       0.438214              3   999.460525  \n",
      "7      0.268653       0.458646              3   999.355410  \n",
      "8      0.314518       0.480025              3   999.245406  \n",
      "9      0.362520       0.502398              3   999.130287  \n",
      "10     0.412760       0.525808              3   999.009816  \n",
      "11     0.465341       0.550304              3   998.883747  \n",
      "12     0.520371       0.575936              3   998.751822  \n",
      "13     0.577965       0.602755              3   998.613770  \n",
      "14     0.638240       0.630817              3   998.469309  \n",
      "15     0.701322       0.660178              3   998.318145  \n",
      "16     0.767340       0.690897              3   998.159969  \n",
      "17     0.836430       0.723037              3   997.994459  \n",
      "18     0.908733       0.756663              3   997.821278  \n",
      "19     0.984400       0.791842              3   997.640074  \n",
      "20     1.063584       0.828645              3   997.450481  \n",
      "21     1.146448       0.867146              3   997.252113  \n",
      "22     1.233163       0.907423              3   997.044569  \n",
      "23     1.323905       0.949554              3   996.827432  \n",
      "24     1.418861       0.993626              3   996.600262  \n",
      "25     1.518223       1.039725              3   996.362602  \n",
      "26     1.622196       1.087943              3   996.113976  \n",
      "27     1.730990       1.138375              3   995.853884  \n",
      "28     1.844828       1.191122              3   995.581807  \n",
      "29     1.963940       1.246287              3   995.297201  \n",
      "..          ...            ...            ...          ...  \n",
      "441  881.288465       0.195819              3   119.124079  \n",
      "442  881.308047       0.191157              3   119.118481  \n",
      "443  881.327163       0.186607              3   119.113016  \n",
      "444  881.345824       0.182165              3   119.107681  \n",
      "445  881.364040       0.177829              3   119.102474  \n",
      "446  881.381823       0.173595              3   119.097391  \n",
      "447  881.399182       0.169463              3   119.092429  \n",
      "448  881.416129       0.165429              3   119.087585  \n",
      "449  881.432672       0.161490              3   119.082857  \n",
      "450  881.448821       0.157646              3   119.078242  \n",
      "451  881.464585       0.153893              3   119.073736  \n",
      "452  881.479975       0.150229              3   119.069338  \n",
      "453  881.494997       0.146652              3   119.065045  \n",
      "454  881.509663       0.143161              3   119.060855  \n",
      "455  881.523979       0.139752              3   119.056764  \n",
      "456  881.537954       0.136425              3   119.052771  \n",
      "457  881.551597       0.133177              3   119.048873  \n",
      "458  881.564914       0.130006              3   119.045068  \n",
      "459  881.577915       0.126911              3   119.041353  \n",
      "460  881.590606       0.123889              3   119.037727  \n",
      "461  881.602995       0.120939              3   119.034188  \n",
      "462  881.615089       0.118059              3   119.030733  \n",
      "463  881.626895       0.115248              3   119.027360  \n",
      "464  881.638419       0.112504              3   119.024068  \n",
      "465  881.649670       0.109825              3   119.020854  \n",
      "466  881.660652       0.107210              3   119.017717  \n",
      "467  881.671373       0.104657              3   119.014655  \n",
      "468  881.681839       0.102165              3   119.011665  \n",
      "469  881.692056       0.099732              3   119.008747  \n",
      "470  881.702029       0.097357              3   119.005899  \n",
      "\n",
      "[471 rows x 10 columns]\n"
     ]
    }
   ],
   "source": [
    "df = pd.read_csv('Results.csv')\n",
    "print(df)"
   ]
  },
  {
   "cell_type": "code",
   "execution_count": 11,
   "metadata": {},
   "outputs": [
    {
     "data": {
      "text/plain": [
       "<matplotlib.legend.Legend at 0x7fc41870c3c8>"
      ]
     },
     "execution_count": 11,
     "metadata": {},
     "output_type": "execute_result"
    },
    {
     "data": {
      "image/png": "[encoded data removed]",
      "text/plain": [
       "<Figure size 720x576 with 1 Axes>"
      ]
     },
     "metadata": {},
     "output_type": "display_data"
    }
   ],
   "source": [
    "from matplotlib import pyplot as plt\n",
    "df.plot(figsize=(10,8))\n",
    "plt.legend(bbox_to_anchor=(1.0, 1.0))"
   ]
  }
 ],
 "metadata": {
  "kernelspec": {
   "display_name": "Python 3",
   "language": "python",
   "name": "python3"
  },
  "language_info": {
   "codemirror_mode": {
    "name": "ipython",
    "version": 3
   },
   "file_extension": ".py",
   "mimetype": "text/x-python",
   "name": "python",
   "nbconvert_exporter": "python",
   "pygments_lexer": "ipython3",
   "version": "3.6.6"
  }
 },
 "nbformat": 4,
 "nbformat_minor": 5
}
